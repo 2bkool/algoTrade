{
 "cells": [
  {
   "cell_type": "code",
   "execution_count": 1,
   "metadata": {},
   "outputs": [
    {
     "name": "stderr",
     "output_type": "stream",
     "text": [
      "C:\\Users\\HIT-2233\\Anaconda3\\envs\\py36\\lib\\site-packages\\pandas_datareader\\compat\\__init__.py:7: FutureWarning: pandas.util.testing is deprecated. Use the functions in the public API at pandas.testing instead.\n",
      "  from pandas.util.testing import assert_frame_equal\n"
     ]
    }
   ],
   "source": [
    "from pylab import plot,show\n",
    "from numpy import vstack,array\n",
    "from numpy.random import rand\n",
    "import numpy as np\n",
    "from scipy.cluster.vq import kmeans,vq\n",
    "import pandas as pd\n",
    "import pandas_datareader as dr\n",
    "from math import sqrt\n",
    "from sklearn.cluster import KMeans\n",
    "from matplotlib import pyplot as plt"
   ]
  },
  {
   "cell_type": "code",
   "execution_count": 2,
   "metadata": {},
   "outputs": [],
   "source": [
    "sp500_url = 'https://en.wikipedia.org/wiki/List_of_S%26P_500_companies'\n",
    "\n",
    "#read in the url and scrape ticker data\n",
    "data_table = pd.read_html(sp500_url)"
   ]
  },
  {
   "cell_type": "code",
   "execution_count": 21,
   "metadata": {},
   "outputs": [],
   "source": [
    "tickers = data_table[0]['Symbol'].tolist()\n",
    "prices_list = []"
   ]
  },
  {
   "cell_type": "code",
   "execution_count": 22,
   "metadata": {},
   "outputs": [],
   "source": [
    "tickers = tickers[0:10]"
   ]
  },
  {
   "cell_type": "code",
   "execution_count": 23,
   "metadata": {},
   "outputs": [
    {
     "data": {
      "text/html": [
       "<div>\n",
       "<style scoped>\n",
       "    .dataframe tbody tr th:only-of-type {\n",
       "        vertical-align: middle;\n",
       "    }\n",
       "\n",
       "    .dataframe tbody tr th {\n",
       "        vertical-align: top;\n",
       "    }\n",
       "\n",
       "    .dataframe thead th {\n",
       "        text-align: right;\n",
       "    }\n",
       "</style>\n",
       "<table border=\"1\" class=\"dataframe\">\n",
       "  <thead>\n",
       "    <tr style=\"text-align: right;\">\n",
       "      <th></th>\n",
       "      <th>MMM</th>\n",
       "      <th>ABT</th>\n",
       "      <th>ABBV</th>\n",
       "      <th>ABMD</th>\n",
       "      <th>ACN</th>\n",
       "      <th>ATVI</th>\n",
       "      <th>ADBE</th>\n",
       "      <th>AMD</th>\n",
       "      <th>AAP</th>\n",
       "      <th>AES</th>\n",
       "    </tr>\n",
       "    <tr>\n",
       "      <th>Date</th>\n",
       "      <th></th>\n",
       "      <th></th>\n",
       "      <th></th>\n",
       "      <th></th>\n",
       "      <th></th>\n",
       "      <th></th>\n",
       "      <th></th>\n",
       "      <th></th>\n",
       "      <th></th>\n",
       "      <th></th>\n",
       "    </tr>\n",
       "  </thead>\n",
       "  <tbody>\n",
       "    <tr>\n",
       "      <th>2017-01-03</th>\n",
       "      <td>160.878021</td>\n",
       "      <td>36.556423</td>\n",
       "      <td>52.551662</td>\n",
       "      <td>112.360001</td>\n",
       "      <td>109.816139</td>\n",
       "      <td>35.706703</td>\n",
       "      <td>103.480003</td>\n",
       "      <td>11.43</td>\n",
       "      <td>168.627762</td>\n",
       "      <td>10.091925</td>\n",
       "    </tr>\n",
       "    <tr>\n",
       "      <th>2017-01-04</th>\n",
       "      <td>161.121964</td>\n",
       "      <td>36.846622</td>\n",
       "      <td>53.292667</td>\n",
       "      <td>115.739998</td>\n",
       "      <td>110.080170</td>\n",
       "      <td>36.408356</td>\n",
       "      <td>104.139999</td>\n",
       "      <td>11.43</td>\n",
       "      <td>170.011581</td>\n",
       "      <td>10.005373</td>\n",
       "    </tr>\n",
       "    <tr>\n",
       "      <th>2017-01-05</th>\n",
       "      <td>160.570786</td>\n",
       "      <td>37.164909</td>\n",
       "      <td>53.696846</td>\n",
       "      <td>114.809998</td>\n",
       "      <td>108.430000</td>\n",
       "      <td>36.973591</td>\n",
       "      <td>105.910004</td>\n",
       "      <td>11.24</td>\n",
       "      <td>169.892990</td>\n",
       "      <td>9.875546</td>\n",
       "    </tr>\n",
       "    <tr>\n",
       "      <th>2017-01-06</th>\n",
       "      <td>161.040649</td>\n",
       "      <td>38.175949</td>\n",
       "      <td>53.713688</td>\n",
       "      <td>115.419998</td>\n",
       "      <td>109.665268</td>\n",
       "      <td>36.944351</td>\n",
       "      <td>108.300003</td>\n",
       "      <td>11.32</td>\n",
       "      <td>167.668976</td>\n",
       "      <td>10.230409</td>\n",
       "    </tr>\n",
       "    <tr>\n",
       "      <th>2017-01-09</th>\n",
       "      <td>160.173203</td>\n",
       "      <td>38.138512</td>\n",
       "      <td>54.067345</td>\n",
       "      <td>117.110001</td>\n",
       "      <td>108.439430</td>\n",
       "      <td>36.739704</td>\n",
       "      <td>108.570000</td>\n",
       "      <td>11.49</td>\n",
       "      <td>167.570175</td>\n",
       "      <td>9.979407</td>\n",
       "    </tr>\n",
       "  </tbody>\n",
       "</table>\n",
       "</div>"
      ],
      "text/plain": [
       "                   MMM        ABT       ABBV        ABMD         ACN  \\\n",
       "Date                                                                   \n",
       "2017-01-03  160.878021  36.556423  52.551662  112.360001  109.816139   \n",
       "2017-01-04  161.121964  36.846622  53.292667  115.739998  110.080170   \n",
       "2017-01-05  160.570786  37.164909  53.696846  114.809998  108.430000   \n",
       "2017-01-06  161.040649  38.175949  53.713688  115.419998  109.665268   \n",
       "2017-01-09  160.173203  38.138512  54.067345  117.110001  108.439430   \n",
       "\n",
       "                 ATVI        ADBE    AMD         AAP        AES  \n",
       "Date                                                             \n",
       "2017-01-03  35.706703  103.480003  11.43  168.627762  10.091925  \n",
       "2017-01-04  36.408356  104.139999  11.43  170.011581  10.005373  \n",
       "2017-01-05  36.973591  105.910004  11.24  169.892990   9.875546  \n",
       "2017-01-06  36.944351  108.300003  11.32  167.668976  10.230409  \n",
       "2017-01-09  36.739704  108.570000  11.49  167.570175   9.979407  "
      ]
     },
     "execution_count": 23,
     "metadata": {},
     "output_type": "execute_result"
    }
   ],
   "source": [
    "for ticker in tickers:\n",
    "    try:\n",
    "        prices = dr.DataReader(ticker,'yahoo','01/01/2017')['Adj Close']\n",
    "        prices = pd.DataFrame(prices)\n",
    "        prices.columns = [ticker]\n",
    "        prices_list.append(prices)\n",
    "    except:\n",
    "        pass\n",
    "    prices_df = pd.concat(prices_list,axis=1)\n",
    "\n",
    "prices_df.sort_index(inplace=True)\n",
    "\n",
    "prices_df.head()"
   ]
  },
  {
   "cell_type": "code",
   "execution_count": 24,
   "metadata": {},
   "outputs": [],
   "source": [
    "#Calculate average annual percentage return and volatilities over a theoretical one year period\n",
    "returns = prices_df.pct_change().mean() * 252\n",
    "returns = pd.DataFrame(returns)\n",
    "returns.columns = ['Returns']\n",
    "returns['Volatility'] = prices_df.pct_change().std() * sqrt(252)\n",
    "\n",
    "#format the data as a numpy array to feed into the K-Means algorithm\n",
    "data = np.asarray([np.asarray(returns['Returns']),np.asarray(returns['Volatility'])]).T"
   ]
  },
  {
   "cell_type": "code",
   "execution_count": null,
   "metadata": {},
   "outputs": [],
   "source": []
  },
  {
   "cell_type": "code",
   "execution_count": 25,
   "metadata": {},
   "outputs": [
    {
     "data": {
      "text/plain": [
       "Text(0.5, 1.0, 'Elbow curve')"
      ]
     },
     "execution_count": 25,
     "metadata": {},
     "output_type": "execute_result"
    },
    {
     "data": {
      "image/png": "[encoded data removed]",
      "text/plain": [
       "<Figure size 1080x360 with 1 Axes>"
      ]
     },
     "metadata": {
      "needs_background": "light"
     },
     "output_type": "display_data"
    }
   ],
   "source": [
    "X = data\n",
    "distorsions = []\n",
    "for k in range(2, 5):\n",
    "    k_means = KMeans(n_clusters=k)\n",
    "    k_means.fit(X)\n",
    "    distorsions.append(k_means.inertia_)\n",
    "\n",
    "fig = plt.figure(figsize=(15, 5))\n",
    "plt.plot(range(2, 5), distorsions)\n",
    "plt.grid(True)\n",
    "plt.title('Elbow curve')"
   ]
  },
  {
   "cell_type": "code",
   "execution_count": 26,
   "metadata": {},
   "outputs": [
    {
     "data": {
      "text/plain": [
       "Text(0.5, 1.0, 'Elbow curve')"
      ]
     },
     "execution_count": 26,
     "metadata": {},
     "output_type": "execute_result"
    },
    {
     "data": {
      "image/png": "[encoded data removed]",
      "text/plain": [
       "<Figure size 1080x360 with 1 Axes>"
      ]
     },
     "metadata": {
      "needs_background": "light"
     },
     "output_type": "display_data"
    }
   ],
   "source": [
    "X = data\n",
    "distorsions = []\n",
    "for k in range(2, 5):\n",
    "    k_means = KMeans(n_clusters=k)\n",
    "    k_means.fit(X)\n",
    "    distorsions.append(k_means.inertia_)\n",
    "\n",
    "fig = plt.figure(figsize=(15, 5))\n",
    "plt.plot(range(2, 5), distorsions)\n",
    "plt.grid(True)\n",
    "plt.title('Elbow curve')"
   ]
  },
  {
   "cell_type": "code",
   "execution_count": 27,
   "metadata": {},
   "outputs": [
    {
     "data": {
      "image/png": "[encoded data removed]",
      "text/plain": [
       "<Figure size 432x288 with 1 Axes>"
      ]
     },
     "metadata": {
      "needs_background": "light"
     },
     "output_type": "display_data"
    }
   ],
   "source": [
    "# computing K-Means with K = 5 (5 clusters)\n",
    "centroids,_ = kmeans(data,5)\n",
    "# assign each sample to a cluster\n",
    "idx,_ = vq(data,centroids)\n",
    "\n",
    "# some plotting using numpy's logical indexing\n",
    "plot(data[idx==0,0],data[idx==0,1],'ob',\n",
    "     data[idx==1,0],data[idx==1,1],'oy',\n",
    "     data[idx==2,0],data[idx==2,1],'or',\n",
    "     data[idx==3,0],data[idx==3,1],'og',\n",
    "     data[idx==4,0],data[idx==4,1],'om')\n",
    "plot(centroids[:,0],centroids[:,1],'sg',markersize=8)\n",
    "show()"
   ]
  },
  {
   "cell_type": "code",
   "execution_count": 28,
   "metadata": {},
   "outputs": [
    {
     "data": {
      "image/png": "[encoded data removed]",
      "text/plain": [
       "<Figure size 432x288 with 1 Axes>"
      ]
     },
     "metadata": {
      "needs_background": "light"
     },
     "output_type": "display_data"
    }
   ],
   "source": [
    "# computing K-Means with K = 5 (5 clusters)\n",
    "centroids,_ = kmeans(data,5)\n",
    "# assign each sample to a cluster\n",
    "idx,_ = vq(data,centroids)\n",
    "\n",
    "# some plotting using numpy's logical indexing\n",
    "plot(data[idx==0,0],data[idx==0,1],'ob',\n",
    "     data[idx==1,0],data[idx==1,1],'oy',\n",
    "     data[idx==2,0],data[idx==2,1],'or',\n",
    "     data[idx==3,0],data[idx==3,1],'og',\n",
    "     data[idx==4,0],data[idx==4,1],'om')\n",
    "plot(centroids[:,0],centroids[:,1],'sg',markersize=8)\n",
    "show()"
   ]
  },
  {
   "cell_type": "code",
   "execution_count": 29,
   "metadata": {},
   "outputs": [
    {
     "name": "stdout",
     "output_type": "stream",
     "text": [
      "Returns       AMD\n",
      "Volatility    AMD\n",
      "dtype: object\n"
     ]
    }
   ],
   "source": [
    "#identify the outlier\n",
    "print(returns.idxmax())"
   ]
  },
  {
   "cell_type": "code",
   "execution_count": 30,
   "metadata": {},
   "outputs": [],
   "source": [
    "#drop the relevant stock from our data\n",
    "returns.drop('AMD',inplace=True)\n",
    "\n",
    "#recreate data to feed into the algorithm\n",
    "data = np.asarray([np.asarray(returns['Returns']),np.asarray(returns['Volatility'])]).T"
   ]
  },
  {
   "cell_type": "code",
   "execution_count": 31,
   "metadata": {},
   "outputs": [
    {
     "data": {
      "image/png": "[encoded data removed]",
      "text/plain": [
       "<Figure size 432x288 with 1 Axes>"
      ]
     },
     "metadata": {
      "needs_background": "light"
     },
     "output_type": "display_data"
    }
   ],
   "source": [
    "# computing K-Means with K = 5 (5 clusters)\n",
    "centroids,_ = kmeans(data,5)\n",
    "# assign each sample to a cluster\n",
    "idx,_ = vq(data,centroids)\n",
    "\n",
    "# some plotting using numpy's logical indexing\n",
    "plot(data[idx==0,0],data[idx==0,1],'ob',\n",
    "     data[idx==1,0],data[idx==1,1],'oy',\n",
    "     data[idx==2,0],data[idx==2,1],'or',\n",
    "     data[idx==3,0],data[idx==3,1],'og',\n",
    "     data[idx==4,0],data[idx==4,1],'om')\n",
    "plot(centroids[:,0],centroids[:,1],'sg',markersize=8)\n",
    "show()"
   ]
  },
  {
   "cell_type": "code",
   "execution_count": 32,
   "metadata": {},
   "outputs": [
    {
     "name": "stdout",
     "output_type": "stream",
     "text": [
      "('MMM', 3)\n",
      "('ABT', 2)\n",
      "('ABBV', 4)\n",
      "('ABMD', 0)\n",
      "('ACN', 4)\n",
      "('ATVI', 0)\n",
      "('ADBE', 1)\n",
      "('AAP', 3)\n",
      "('AES', 4)\n"
     ]
    }
   ],
   "source": [
    "details = [(name,cluster) for name, cluster in zip(returns.index,idx)]\n",
    "\n",
    "for detail in details:\n",
    "    print(detail)"
   ]
  },
  {
   "cell_type": "markdown",
   "metadata": {},
   "source": [
    "* reference\n",
    "    * [stock-clusters-using-k-means-algorithm](https://www.pythonforfinance.net/2018/02/08/stock-clusters-using-k-means-algorithm-in-python/)"
   ]
  },
  {
   "cell_type": "code",
   "execution_count": null,
   "metadata": {},
   "outputs": [],
   "source": []
  }
 ],
 "metadata": {
  "kernelspec": {
   "display_name": "Python 3",
   "language": "python",
   "name": "python3"
  },
  "language_info": {
   "codemirror_mode": {
    "name": "ipython",
    "version": 3
   },
   "file_extension": ".py",
   "mimetype": "text/x-python",
   "name": "python",
   "nbconvert_exporter": "python",
   "pygments_lexer": "ipython3",
   "version": "3.6.7"
  }
 },
 "nbformat": 4,
 "nbformat_minor": 4
}
