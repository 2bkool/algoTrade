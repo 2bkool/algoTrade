{
 "cells": [
  {
   "cell_type": "code",
   "execution_count": 1,
   "metadata": {},
   "outputs": [],
   "source": [
    "# Data Manipulation\n",
    "import numpy as np\n",
    "import pandas as pd\n",
    "\n",
    "import matplotlib.pyplot as plt\n",
    "from sklearn.neighbors import KNeighborsClassifier\n",
    "from sklearn.metrics import accuracy_score\n",
    "\n",
    "from pandas_datareader import data as pdr\n",
    "# import fix_yahoo_finance as yf"
   ]
  },
  {
   "cell_type": "code",
   "execution_count": 2,
   "metadata": {},
   "outputs": [],
   "source": [
    "df = pdr.get_data_yahoo('SPY','2012-01-01','2017-01-01')"
   ]
  },
  {
   "cell_type": "code",
   "execution_count": 3,
   "metadata": {},
   "outputs": [
    {
     "data": {
      "text/html": [
       "<div>\n",
       "<style scoped>\n",
       "    .dataframe tbody tr th:only-of-type {\n",
       "        vertical-align: middle;\n",
       "    }\n",
       "\n",
       "    .dataframe tbody tr th {\n",
       "        vertical-align: top;\n",
       "    }\n",
       "\n",
       "    .dataframe thead th {\n",
       "        text-align: right;\n",
       "    }\n",
       "</style>\n",
       "<table border=\"1\" class=\"dataframe\">\n",
       "  <thead>\n",
       "    <tr style=\"text-align: right;\">\n",
       "      <th></th>\n",
       "      <th>High</th>\n",
       "      <th>Low</th>\n",
       "      <th>Open</th>\n",
       "      <th>Close</th>\n",
       "      <th>Volume</th>\n",
       "      <th>Adj Close</th>\n",
       "    </tr>\n",
       "    <tr>\n",
       "      <th>Date</th>\n",
       "      <th></th>\n",
       "      <th></th>\n",
       "      <th></th>\n",
       "      <th></th>\n",
       "      <th></th>\n",
       "      <th></th>\n",
       "    </tr>\n",
       "  </thead>\n",
       "  <tbody>\n",
       "    <tr>\n",
       "      <td>2012-01-03</td>\n",
       "      <td>128.380005</td>\n",
       "      <td>127.430000</td>\n",
       "      <td>127.760002</td>\n",
       "      <td>127.500000</td>\n",
       "      <td>193697900.0</td>\n",
       "      <td>108.037117</td>\n",
       "    </tr>\n",
       "    <tr>\n",
       "      <td>2012-01-04</td>\n",
       "      <td>127.809998</td>\n",
       "      <td>126.709999</td>\n",
       "      <td>127.199997</td>\n",
       "      <td>127.699997</td>\n",
       "      <td>127186500.0</td>\n",
       "      <td>108.206604</td>\n",
       "    </tr>\n",
       "    <tr>\n",
       "      <td>2012-01-05</td>\n",
       "      <td>128.229996</td>\n",
       "      <td>126.430000</td>\n",
       "      <td>127.010002</td>\n",
       "      <td>128.039993</td>\n",
       "      <td>173895000.0</td>\n",
       "      <td>108.494698</td>\n",
       "    </tr>\n",
       "    <tr>\n",
       "      <td>2012-01-06</td>\n",
       "      <td>128.220001</td>\n",
       "      <td>127.290001</td>\n",
       "      <td>128.199997</td>\n",
       "      <td>127.709999</td>\n",
       "      <td>148050000.0</td>\n",
       "      <td>108.215065</td>\n",
       "    </tr>\n",
       "    <tr>\n",
       "      <td>2012-01-09</td>\n",
       "      <td>128.179993</td>\n",
       "      <td>127.410004</td>\n",
       "      <td>128.000000</td>\n",
       "      <td>128.020004</td>\n",
       "      <td>99530200.0</td>\n",
       "      <td>108.477776</td>\n",
       "    </tr>\n",
       "  </tbody>\n",
       "</table>\n",
       "</div>"
      ],
      "text/plain": [
       "                  High         Low        Open       Close       Volume  \\\n",
       "Date                                                                      \n",
       "2012-01-03  128.380005  127.430000  127.760002  127.500000  193697900.0   \n",
       "2012-01-04  127.809998  126.709999  127.199997  127.699997  127186500.0   \n",
       "2012-01-05  128.229996  126.430000  127.010002  128.039993  173895000.0   \n",
       "2012-01-06  128.220001  127.290001  128.199997  127.709999  148050000.0   \n",
       "2012-01-09  128.179993  127.410004  128.000000  128.020004   99530200.0   \n",
       "\n",
       "             Adj Close  \n",
       "Date                    \n",
       "2012-01-03  108.037117  \n",
       "2012-01-04  108.206604  \n",
       "2012-01-05  108.494698  \n",
       "2012-01-06  108.215065  \n",
       "2012-01-09  108.477776  "
      ]
     },
     "execution_count": 3,
     "metadata": {},
     "output_type": "execute_result"
    }
   ],
   "source": [
    "df = df.dropna()\n",
    "df.head()"
   ]
  },
  {
   "cell_type": "code",
   "execution_count": 4,
   "metadata": {},
   "outputs": [
    {
     "data": {
      "text/html": [
       "<div>\n",
       "<style scoped>\n",
       "    .dataframe tbody tr th:only-of-type {\n",
       "        vertical-align: middle;\n",
       "    }\n",
       "\n",
       "    .dataframe tbody tr th {\n",
       "        vertical-align: top;\n",
       "    }\n",
       "\n",
       "    .dataframe thead th {\n",
       "        text-align: right;\n",
       "    }\n",
       "</style>\n",
       "<table border=\"1\" class=\"dataframe\">\n",
       "  <thead>\n",
       "    <tr style=\"text-align: right;\">\n",
       "      <th></th>\n",
       "      <th>Open</th>\n",
       "      <th>High</th>\n",
       "      <th>Low</th>\n",
       "      <th>Close</th>\n",
       "    </tr>\n",
       "    <tr>\n",
       "      <th>Date</th>\n",
       "      <th></th>\n",
       "      <th></th>\n",
       "      <th></th>\n",
       "      <th></th>\n",
       "    </tr>\n",
       "  </thead>\n",
       "  <tbody>\n",
       "    <tr>\n",
       "      <td>2012-01-03</td>\n",
       "      <td>127.760002</td>\n",
       "      <td>128.380005</td>\n",
       "      <td>127.430000</td>\n",
       "      <td>127.500000</td>\n",
       "    </tr>\n",
       "    <tr>\n",
       "      <td>2012-01-04</td>\n",
       "      <td>127.199997</td>\n",
       "      <td>127.809998</td>\n",
       "      <td>126.709999</td>\n",
       "      <td>127.699997</td>\n",
       "    </tr>\n",
       "    <tr>\n",
       "      <td>2012-01-05</td>\n",
       "      <td>127.010002</td>\n",
       "      <td>128.229996</td>\n",
       "      <td>126.430000</td>\n",
       "      <td>128.039993</td>\n",
       "    </tr>\n",
       "    <tr>\n",
       "      <td>2012-01-06</td>\n",
       "      <td>128.199997</td>\n",
       "      <td>128.220001</td>\n",
       "      <td>127.290001</td>\n",
       "      <td>127.709999</td>\n",
       "    </tr>\n",
       "    <tr>\n",
       "      <td>2012-01-09</td>\n",
       "      <td>128.000000</td>\n",
       "      <td>128.179993</td>\n",
       "      <td>127.410004</td>\n",
       "      <td>128.020004</td>\n",
       "    </tr>\n",
       "  </tbody>\n",
       "</table>\n",
       "</div>"
      ],
      "text/plain": [
       "                  Open        High         Low       Close\n",
       "Date                                                      \n",
       "2012-01-03  127.760002  128.380005  127.430000  127.500000\n",
       "2012-01-04  127.199997  127.809998  126.709999  127.699997\n",
       "2012-01-05  127.010002  128.229996  126.430000  128.039993\n",
       "2012-01-06  128.199997  128.220001  127.290001  127.709999\n",
       "2012-01-09  128.000000  128.179993  127.410004  128.020004"
      ]
     },
     "execution_count": 4,
     "metadata": {},
     "output_type": "execute_result"
    }
   ],
   "source": [
    "tmp_df = df[['Open','High','Low','Close']].copy()\n",
    "tmp_df.head()"
   ]
  },
  {
   "cell_type": "markdown",
   "metadata": {},
   "source": [
    "### 피처 데이터 및 레이블 데이터 생성"
   ]
  },
  {
   "cell_type": "code",
   "execution_count": 5,
   "metadata": {},
   "outputs": [],
   "source": [
    "tmp_df['Open-Close'] = tmp_df['Open'] - tmp_df['Close']\n",
    "tmp_df['High-Low'] = tmp_df['High'] - tmp_df['Low']\n",
    "tmp_df = tmp_df.dropna()\n",
    "X = tmp_df[['Open-Close','High-Low']]\n",
    "Y = np.where(tmp_df['Close'].shift(-1) > tmp_df['Close'], 1, -1)"
   ]
  },
  {
   "cell_type": "markdown",
   "metadata": {},
   "source": [
    "### 학습데이터 테스트데이터 분리"
   ]
  },
  {
   "cell_type": "code",
   "execution_count": 6,
   "metadata": {},
   "outputs": [],
   "source": [
    "split_percentage = 0.7\n",
    "split = int(split_percentage* len(tmp_df))\n",
    "X_train = X[:split]\n",
    "Y_train = Y[:split]\n",
    "\n",
    "X_test = X[split:]\n",
    "Y_test = Y[split:]"
   ]
  },
  {
   "cell_type": "markdown",
   "metadata": {},
   "source": [
    "### KNN Model 학습"
   ]
  },
  {
   "cell_type": "code",
   "execution_count": 7,
   "metadata": {},
   "outputs": [
    {
     "name": "stdout",
     "output_type": "stream",
     "text": [
      "Train_data Accuracy : 0.60\n",
      "Test_data Accuracy : 0.53\n"
     ]
    }
   ],
   "source": [
    "knn = KNeighborsClassifier(n_neighbors = 15)\n",
    "\n",
    "knn.fit(X_train,Y_train)\n",
    "\n",
    "accuracy_train = accuracy_score(Y_train, knn.predict(X_train))\n",
    "accuracy_test = accuracy_score(Y_test, knn.predict(X_test))\n",
    "\n",
    "print('Train_data Accuracy : %.2f' % accuracy_train)\n",
    "print('Test_data Accuracy : %.2f' % accuracy_test)"
   ]
  },
  {
   "cell_type": "markdown",
   "metadata": {},
   "source": [
    "### KNN 모델을 활용한 간단한 투자전략 만들기\n",
    "* KNN 모델\n",
    "    -  1 이라고 예측하면 매수 \n",
    "    - -1 이라고 예측하면 공매도\n"
   ]
  },
  {
   "cell_type": "code",
   "execution_count": 8,
   "metadata": {},
   "outputs": [
    {
     "name": "stderr",
     "output_type": "stream",
     "text": [
      "C:\\Users\\HIT-2233\\Anaconda3\\envs\\py36\\lib\\site-packages\\pandas\\plotting\\_matplotlib\\converter.py:103: FutureWarning: Using an implicitly registered datetime converter for a matplotlib plotting method. The converter was registered by pandas on import. Future versions of pandas will require you to explicitly register matplotlib converters.\n",
      "\n",
      "To register the converters:\n",
      "\t>>> from pandas.plotting import register_matplotlib_converters\n",
      "\t>>> register_matplotlib_converters()\n",
      "  warnings.warn(msg, FutureWarning)\n"
     ]
    },
    {
     "data": {
      "image/png": "[encoded data removed]",
      "text/plain": [
       "<Figure size 720x360 with 1 Axes>"
      ]
     },
     "metadata": {
      "needs_background": "light"
     },
     "output_type": "display_data"
    }
   ],
   "source": [
    "tmp_df['Predicted_Signal'] = knn.predict(X)\n",
    "\n",
    "tmp_df['SPY_ret'] = np.log(tmp_df['Close'] / tmp_df['Close'].shift(1))\n",
    "cum_spy_ret = tmp_df[split:]['SPY_ret'].cumsum() * 100\n",
    "\n",
    "tmp_df['st_ret'] = tmp_df['SPY_ret'] * tmp_df['Predicted_Signal'].shift(1)\n",
    "cum_st_ret = tmp_df[split:]['st_ret'].cumsum() * 100\n",
    "\n",
    "plt.figure(figsize=(10,5))\n",
    "plt.plot(cum_spy_ret, color='r',label='spy ret')\n",
    "plt.plot(cum_st_ret , color='g', label='st ret')\n",
    "plt.legend()\n",
    "plt.show()"
   ]
  },
  {
   "cell_type": "code",
   "execution_count": 9,
   "metadata": {},
   "outputs": [
    {
     "name": "stdout",
     "output_type": "stream",
     "text": [
      "TOTAL :  1258\n",
      "UP predict :  883\n",
      "DOWN predict :  375\n"
     ]
    }
   ],
   "source": [
    "print('TOTAL : ',tmp_df['Predicted_Signal'].count())\n",
    "print('UP predict : ',tmp_df.loc[tmp_df['Predicted_Signal'] == 1,['Predicted_Signal']].count()[0])\n",
    "print('DOWN predict : ',tmp_df.loc[tmp_df['Predicted_Signal'] == -1,['Predicted_Signal']].count()[0])"
   ]
  },
  {
   "cell_type": "markdown",
   "metadata": {},
   "source": [
    "### 샤프지수"
   ]
  },
  {
   "cell_type": "code",
   "execution_count": 10,
   "metadata": {},
   "outputs": [
    {
     "name": "stdout",
     "output_type": "stream",
     "text": [
      "Sharpe ratio : 1.63\n"
     ]
    }
   ],
   "source": [
    "std = cum_st_ret.std()\n",
    "sharpe = (cum_st_ret - cum_spy_ret) / std\n",
    "sharpe = sharpe.mean()\n",
    "print('Sharpe ratio : %.2f' % sharpe)"
   ]
  },
  {
   "cell_type": "markdown",
   "metadata": {},
   "source": [
    "* https://blog.quantinsti.com/machine-learning-k-nearest-neighbors-knn-algorithm-python/ 참고"
   ]
  },
  {
   "cell_type": "code",
   "execution_count": 11,
   "metadata": {},
   "outputs": [
    {
     "data": {
      "text/plain": [
       "Date\n",
       "2015-07-06   -0.285002\n",
       "2015-07-07    0.341900\n",
       "2015-07-08   -1.350059\n",
       "2015-07-09   -1.169322\n",
       "2015-07-10    0.081968\n",
       "                ...   \n",
       "2016-12-23    8.503577\n",
       "2016-12-27    8.751375\n",
       "2016-12-28    7.921490\n",
       "2016-12-29    7.899211\n",
       "2016-12-30    7.533038\n",
       "Name: SPY_ret, Length: 378, dtype: float64"
      ]
     },
     "execution_count": 11,
     "metadata": {},
     "output_type": "execute_result"
    }
   ],
   "source": [
    "cum_spy_ret"
   ]
  },
  {
   "cell_type": "code",
   "execution_count": null,
   "metadata": {},
   "outputs": [],
   "source": []
  }
 ],
 "metadata": {
  "kernelspec": {
   "display_name": "Python 3",
   "language": "python",
   "name": "python3"
  },
  "language_info": {
   "codemirror_mode": {
    "name": "ipython",
    "version": 3
   },
   "file_extension": ".py",
   "mimetype": "text/x-python",
   "name": "python",
   "nbconvert_exporter": "python",
   "pygments_lexer": "ipython3",
   "version": "3.6.7"
  }
 },
 "nbformat": 4,
 "nbformat_minor": 4
}
