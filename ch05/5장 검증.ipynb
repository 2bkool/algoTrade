{
 "cells": [
  {
   "cell_type": "code",
   "execution_count": 3,
   "metadata": {},
   "outputs": [
    {
     "name": "stdout",
     "output_type": "stream",
     "text": [
      "[23.68284712]\n"
     ]
    }
   ],
   "source": [
    "import pandas as pd\n",
    "import matplotlib.pyplot as plt\n",
    "from sklearn.linear_model import LinearRegression\n",
    "from sklearn.datasets import load_boston\n",
    "# 보스턴 집값 데이터를 불러온다.\n",
    "boston_data = load_boston()\n",
    "x_values = boston_data['data']\n",
    "y_values = boston_data['target']\n",
    "# 선형회귀 모델을 만들고 모델을 학습시킨다.\n",
    "model = LinearRegression()\n",
    "model.fit(x_values, y_values)\n",
    "# 샘플 데이터로 예측한다.\n",
    "sample_house = [[2.29690000e-01, 0.00000000e+00, 1.05900000e+01, 0.00000000e+00,\n",
    "4.89000000e-01,\n",
    "6.32600000e+00, 5.25000000e+01, 4.35490000e+00, 4.00000000e+00,\n",
    "2.77000000e+02,\n",
    "1.86000000e+01, 3.94870000e+02, 1.09700000e+01]]\n",
    "print(model.predict(sample_house))"
   ]
  },
  {
   "cell_type": "code",
   "execution_count": null,
   "metadata": {},
   "outputs": [],
   "source": []
  }
 ],
 "metadata": {
  "kernelspec": {
   "display_name": "Python 3",
   "language": "python",
   "name": "python3"
  },
  "language_info": {
   "codemirror_mode": {
    "name": "ipython",
    "version": 3
   },
   "file_extension": ".py",
   "mimetype": "text/x-python",
   "name": "python",
   "nbconvert_exporter": "python",
   "pygments_lexer": "ipython3",
   "version": "3.6.7"
  }
 },
 "nbformat": 4,
 "nbformat_minor": 4
}
